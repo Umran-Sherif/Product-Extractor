{
 "cells": [
  {
   "cell_type": "code",
   "execution_count": null,
   "id": "a6cb4fd2-4984-476e-b29b-550e96959518",
   "metadata": {},
   "outputs": [],
   "source": [
    "from src import KeepaAPI as api"
   ]
  },
  {
   "cell_type": "code",
   "execution_count": null,
   "id": "371dd6de-b129-472d-a6b3-9730bf58b801",
   "metadata": {},
   "outputs": [],
   "source": [
    "brand_products = api.filter_brand_products(\"Dove\", 0)\n",
    "asin1 = brand_products['asinList'][0]"
   ]
  },
  {
   "cell_type": "code",
   "execution_count": 3,
   "id": "aae7f101-f6d7-43b2-b591-9049f519723f",
   "metadata": {},
   "outputs": [
    {
     "name": "stdout",
     "output_type": "stream",
     "text": [
      "Time taken to execute get_product_data: 0.3 secs\n",
      "API Request status: <Response [200]>\n",
      "Tokens Left: 259\n",
      "Time taken to execute row_details: 0.0 secs\n"
     ]
    }
   ],
   "source": [
    "from src import Product\n",
    "row_num = 1\n",
    "product_data = Product.create_product_row('B002DUOOXO', row_num)"
   ]
  },
  {
   "cell_type": "code",
   "execution_count": 4,
   "id": "5cb15bbc-34b9-487f-9dd3-4c0ac9965051",
   "metadata": {},
   "outputs": [
    {
     "data": {
      "text/plain": [
       "{'ASIN': 'B002DUOOXO',\n",
       " 'Product Name': 'Dove Deep Moisturising PInk 135g x 8 Gentle Cleanser for Softer and Smoother Skin with 1/4 Moisturising Cream PINK More Moisturizing than Bar Soap,135gm Pack of 8',\n",
       " 'Brand': 'Dove',\n",
       " 'Category': 'Beauty',\n",
       " 'Buy Price': '',\n",
       " '25% ROI': '£3.60',\n",
       " 'BB Margin Buy Price': '',\n",
       " 'Sell Price': '£10.00',\n",
       " 'Buybox Price': '£10.00',\n",
       " 'Profit': '=IF(E3=0, CONCATENATE(\"£\",H3-AB3-F3), CONCATENATE(\"£\",H3-AB3-E3))',\n",
       " 'ROI': '=IFERROR(IF(E3=0, CONCATENATE(ROUND((J3/F3)*100,1), \"%\"), CONCATENATE(ROUND((J3/E3)*100,1), \"%\")),\"\")',\n",
       " 'Amz URL': '=HYPERLINK(\"https://www.amazon.co.uk/dp/B002DUOOXO\")',\n",
       " 'Google Search': '=HYPERLINK(\"https://www.google.com/search?q=Dove%20Deep%20Moisturising%20PInk%20135g%20x%208%20Gentle%20Cleanser%20for%20Softer%20and%20Smoother%20Skin%20with\")',\n",
       " 'Trolley Search': '=HYPERLINK(\"https://www.trolley.co.uk/search/?from=search&q=Dove+Deep+Moisturising+PInk+135g+x+8+Gentle+Cleanser+for+Softer+and+Smoother+Skin+with\")',\n",
       " 'Source URL': ' ',\n",
       " 'Notes': ' ',\n",
       " 'Date': '2024-02-25',\n",
       " 'BSR': 334,\n",
       " 'Bought last month': 50,\n",
       " 'Amazon?': 'No',\n",
       " 'FBA sellers': 4,\n",
       " 'FBM sellers': 3,\n",
       " 'No. sellers': 7,\n",
       " 'B/E Sell Price': '=E3+AB3',\n",
       " 'SP Max Buy Price': '',\n",
       " 'BP Max Sold Price': '',\n",
       " 'Max Buybox Price': '£18.45',\n",
       " 'Total Fees': '£5.50',\n",
       " 'FBA Fee': '£3.05',\n",
       " 'Referral Fee': '£1.50',\n",
       " 'Storage_fee': '£0.04',\n",
       " 'VAT fee': '£0.92',\n",
       " 'Dimensions (cm)': 'L:1.86 x H:0.66 x W:1.07',\n",
       " 'Weight (kg)': 0.689,\n",
       " 'Quantity': 1,\n",
       " 'Date Released': '-1--',\n",
       " 'Keepa Data Since': '2014-07-11 - 00:00:00'}"
      ]
     },
     "execution_count": 4,
     "metadata": {},
     "output_type": "execute_result"
    }
   ],
   "source": [
    "product_data"
   ]
  },
  {
   "cell_type": "code",
   "execution_count": null,
   "id": "e568e597-b30e-4724-9e85-4dd158fbf738",
   "metadata": {},
   "outputs": [],
   "source": []
  },
  {
   "cell_type": "code",
   "execution_count": null,
   "id": "7ac192e3-9ef6-4756-bd4c-946a2be38fee",
   "metadata": {},
   "outputs": [],
   "source": []
  },
  {
   "cell_type": "code",
   "execution_count": null,
   "id": "1c5bb28f-2e05-404d-8311-32c8c9132e01",
   "metadata": {},
   "outputs": [],
   "source": [
    "## Coding pipeline\n",
    "\n",
    "# 1. Data accuracy\n",
    "\n",
    "# Possible Extensions:\n",
    "\n",
    "# 1. Helpful info on data generated, with analysis\n",
    "# 2. Category searches"
   ]
  },
  {
   "cell_type": "code",
   "execution_count": null,
   "id": "2fc5e40a-638d-4c50-97d3-f4a315b430b0",
   "metadata": {},
   "outputs": [],
   "source": []
  },
  {
   "cell_type": "markdown",
   "id": "8c6bd9c7-5775-4ad4-9dfc-9493b599fed5",
   "metadata": {},
   "source": [
    "# Application execution"
   ]
  },
  {
   "cell_type": "code",
   "execution_count": null,
   "id": "a69b81dd-c647-429f-a5ff-4b167f11cfb4",
   "metadata": {},
   "outputs": [
    {
     "name": "stdout",
     "output_type": "stream",
     "text": [
      "API Request status: <Response [200]>\n",
      "API Request status: <Response [200]>\n",
      "Time taken to execute get_filtered_products: 0.4 secs\n",
      "API Request status: <Response [200]>\n",
      "Tokens Left: 44\n",
      "API Request status: <Response [200]>\n",
      "Time taken to execute get_filtered_products: 0.4 secs\n",
      "API Request status: <Response [200]>\n",
      "Tokens Left: 39\n",
      "API Request status: <Response [200]>\n",
      "Time taken to execute get_product_data: 4.7 secs\n",
      "Time taken to execute get_product_data: 4.8 secs\n",
      "API Request status: <Response [200]>\n",
      "Tokens Left: 27\n",
      "Thread: 2 - ASIN: B07TSHJ9X7 created!\n",
      "\n",
      "API Request status: <Response [200]>\n",
      "Tokens Left: 27\n",
      "Thread: 4 - ASIN: B07TWQF3RM created!\n",
      "\n",
      "Time taken to execute get_product_data: 5.2 secs\n",
      "API Request status: <Response [200]>\n",
      "Tokens Left: 15\n",
      "Thread: 1 - ASIN: B000T1VWFC created!\n",
      "\n",
      "Time taken to execute get_product_data: 7.1 secs\n",
      "API Request status: <Response [200]>\n",
      "Tokens Left: 9\n",
      "Thread: 3 - ASIN: B07TTLZQZG created!\n",
      "\n",
      "         ASIN                                       Product Name    Brand  \\\n",
      "0  B07TSHJ9X7  L'Oréal Paris Colorista Permanent Gel Hair Dye...  L'Oreal   \n",
      "1  B07TWQF3RM  L'Oréal Paris Colorista Permanent Gel Hair Dye...  L'Oreal   \n",
      "2  B000T1VWFC  L'Oreal Age Perfect Collagen Expert Re-tighten...  L'Oreal   \n",
      "3  B07TTLZQZG  L'Oréal Paris Colorista Permanent Gel Hair Dye...  L'Oreal   \n",
      "\n",
      "  Category Buy Price 25% ROI BB Margin Buy Price Sell Price Buybox Price  \\\n",
      "0   Beauty             £3.94                          £8.99        £8.99   \n",
      "1   Beauty             £3.79                          £8.79        £8.79   \n",
      "2   Beauty             £2.15                          £6.49        £6.49   \n",
      "3   Beauty             £3.94                          £8.99        £8.99   \n",
      "\n",
      "                                              Profit  ... Total Fees FBA Fee  \\\n",
      "0  =IF(E3=0, CONCATENATE(\"£\",H3-AB3-F3), CONCATEN...  ...      £4.07   £2.64   \n",
      "1  =IF(E5=0, CONCATENATE(\"£\",H5-AB5-F5), CONCATEN...  ...      £4.05   £2.64   \n",
      "2  =IF(E2=0, CONCATENATE(\"£\",H2-AB2-F2), CONCATEN...  ...      £3.80   £2.64   \n",
      "3  =IF(E4=0, CONCATENATE(\"£\",H4-AB4-F4), CONCATEN...  ...      £4.07   £2.64   \n",
      "\n",
      "  Referral Fee Storage_fee VAT fee           Dimensions (cm) Weight (kg)  \\\n",
      "0        £0.72       £0.03   £0.68  L:1.72 x H:0.66 x W:0.94        0.26   \n",
      "1        £0.70       £0.03   £0.67  L:1.71 x H:0.72 x W:0.92        0.26   \n",
      "2        £0.52       £0.01   £0.63    L:0.8 x H:0.7 x W:0.71        0.24   \n",
      "3        £0.72       £0.03   £0.68  L:1.73 x H:0.66 x W:0.97        0.19   \n",
      "\n",
      "   Quantity  Date Released       Keepa Data Since  \n",
      "0         1     2019-06-06  2019-07-26 - 16:22:00  \n",
      "1         1     2019-06-06  2019-08-06 - 08:34:00  \n",
      "2         1     2021-07-26  2011-04-09 - 10:00:00  \n",
      "3         1     2019-06-06  2019-07-16 - 14:52:00  \n",
      "\n",
      "[4 rows x 37 columns]\n",
      "API Request status: <Response [200]>\n",
      "Time taken to execute get_filtered_products: 0.2 secs\n",
      "API Request status: <Response [200]>\n",
      "Tokens Left: -1\n",
      "API Request status: <Response [200]>\n",
      "Time taken to execute get_product_data: 0.2 secs\n",
      "Time taken to execute get_product_data: 0.2 secs\n",
      "API Request status: <Response [200]>\n",
      "Tokens Left: -1\n",
      "Thread 2 - ASIN: 2 failed! Here's the error: 'products'\n",
      "Continuing...\n",
      "API Request status: <Response [200]>\n",
      "Tokens Left: -1\n",
      "Thread 1 - ASIN: 1 failed! Here's the error: 'products'\n",
      "Continuing...\n",
      "Empty DataFrame\n",
      "Columns: []\n",
      "Index: []\n",
      "API Request status: <Response [200]>\n",
      "Error: Unable to fetch products.\n",
      "<Response [429]>\n",
      "Time taken to execute get_filtered_products: 0.2 secs\n",
      "API Request status: <Response [200]>\n",
      "Tokens Left: -1\n"
     ]
    },
    {
     "name": "stderr",
     "output_type": "stream",
     "text": [
      "Exception in Tkinter callback\n",
      "Traceback (most recent call last):\n",
      "  File \"C:\\Users\\spagb\\AppData\\Local\\Programs\\Python\\Python310\\lib\\tkinter\\__init__.py\", line 1921, in __call__\n",
      "    return self.func(*args)\n",
      "  File \"C:\\Users\\spagb\\Documents\\Python Experiments\\Amazon FBA\\Keepa\\Product Extractor\\Project\\gui\\frames.py\", line 179, in generate_excel\n",
      "    ASINs = filtered_products['asinList']\n",
      "TypeError: 'NoneType' object is not subscriptable\n"
     ]
    }
   ],
   "source": [
    "from gui import Application as APP\n",
    "\n",
    "app = APP(\n",
    "    \n",
    ")\n",
    "app.mainloop()"
   ]
  },
  {
   "cell_type": "code",
   "execution_count": null,
   "id": "0d55ec74-f968-47b7-a220-1047a76b1158",
   "metadata": {},
   "outputs": [],
   "source": []
  },
  {
   "cell_type": "code",
   "execution_count": null,
   "id": "d98cf3b2-a08f-4257-8f5b-56c8b355fd7e",
   "metadata": {},
   "outputs": [],
   "source": []
  },
  {
   "cell_type": "code",
   "execution_count": 4,
   "id": "b879fddc-cab8-4388-872e-20f2eef77e44",
   "metadata": {},
   "outputs": [],
   "source": [
    "#time taken function with class/instance/static method\n",
    "\n",
    "# def time_taken(func):\n",
    "#     def wrapper(*args, **kwargs):\n",
    "#         if args:\n",
    "#             # Instance method\n",
    "#             if hasattr(args[0], func.__name__):\n",
    "#                 instance = args[0]\n",
    "#                 t1 = t.time()\n",
    "#                 result = func(*args, **kwargs)\n",
    "#                 t2 = t.time()\n",
    "#                 print(f\"Time taken to execute {func.__name__}: {(t2-t1):.1f} secs\")\n",
    "#             # Class method\n",
    "#             elif hasattr(args[0], '__class__') and hasattr(args[0].__class__, func.__name__):\n",
    "#                 cls = args[0]\n",
    "#                 t1 = t.time()\n",
    "#                 result = func(*args, **kwargs)\n",
    "#                 t2 = t.time()\n",
    "#                 print(f\"Time taken to execute {func.__name__}: {(t2-t1):.1f} secs\")\n",
    "#             # Static method\n",
    "#             else:\n",
    "#                 t1 = t.time()\n",
    "#                 result = func(*args, **kwargs)\n",
    "#                 t2 = t.time()\n",
    "#                 print(f\"Time taken to execute {func.__name__}: {(t2-t1):.1f} secs\")\n",
    "#         else:  # Function is not bound to any class\n",
    "#             t1 = t.time()\n",
    "#             result = func(*args, **kwargs)\n",
    "#             t2 = t.time()\n",
    "#             print(f\"Time taken to execute {func.__name__}: {(t2-t1):.1f} secs\")\n",
    "#         return result\n",
    "#     return wrapper"
   ]
  },
  {
   "cell_type": "code",
   "execution_count": null,
   "id": "8a538e24-4838-434a-af91-3e4a5e8ef84c",
   "metadata": {},
   "outputs": [],
   "source": []
  },
  {
   "cell_type": "code",
   "execution_count": null,
   "id": "28c85d60-e799-446f-a638-bde3ac94746e",
   "metadata": {},
   "outputs": [],
   "source": []
  }
 ],
 "metadata": {
  "kernelspec": {
   "display_name": "Python 3 (ipykernel)",
   "language": "python",
   "name": "python3"
  },
  "language_info": {
   "codemirror_mode": {
    "name": "ipython",
    "version": 3
   },
   "file_extension": ".py",
   "mimetype": "text/x-python",
   "name": "python",
   "nbconvert_exporter": "python",
   "pygments_lexer": "ipython3",
   "version": "3.10.7"
  }
 },
 "nbformat": 4,
 "nbformat_minor": 5
}
